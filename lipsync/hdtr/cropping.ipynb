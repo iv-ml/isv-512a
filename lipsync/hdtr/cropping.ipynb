{
 "cells": [
  {
   "cell_type": "code",
   "execution_count": 1,
   "metadata": {},
   "outputs": [],
   "source": [
    "import numpy as np\n",
    "import cv2\n",
    "from pathlib import Path\n",
    "import matplotlib.pyplot as plt\n"
   ]
  },
  {
   "cell_type": "code",
   "execution_count": null,
   "metadata": {},
   "outputs": [],
   "source": [
    "ds = \"iv_recording\"\n",
    "clip_id = \"C1038--0001\"\n",
    "bucket_id = 32\n",
    "img_folder = Path(f\"/data/lipsync_512_data/\")\n",
    "bucket_folder = img_folder / ds / clip_id / f\"{bucket_id:06d}\"\n",
    "img_list = list(bucket_folder.glob(\"*.png\"))\n",
    "img_list.sort()\n",
    "print(img_list)\n",
    "img_list = [cv2.imread(str(img)) for img in img_list]\n",
    "\n"
   ]
  },
  {
   "cell_type": "code",
   "execution_count": null,
   "metadata": {},
   "outputs": [],
   "source": [
    "image = np.concatenate(img_list, 1)\n",
    "plt.imshow(image[:, :, ::-1])\n",
    "plt.show()\n"
   ]
  },
  {
   "cell_type": "code",
   "execution_count": null,
   "metadata": {},
   "outputs": [],
   "source": [
    "lms_folder = Path(\"/data/mp_lms\")\n",
    "lms = np.load(lms_folder / f\"{ds}/{clip_id}.npy\")\n",
    "print(lms.shape)\n"
   ]
  },
  {
   "cell_type": "code",
   "execution_count": null,
   "metadata": {},
   "outputs": [],
   "source": [
    "bbox_folder = Path(\"/data/lipsync_512_data/bins\")\n",
    "bbox = np.load(bbox_folder / f\"{ds}/{clip_id}.npy\")\n",
    "print(bbox.shape)\n"
   ]
  },
  {
   "cell_type": "code",
   "execution_count": null,
   "metadata": {},
   "outputs": [],
   "source": [
    "bbox[bucket_id]"
   ]
  },
  {
   "cell_type": "code",
   "execution_count": null,
   "metadata": {},
   "outputs": [],
   "source": [
    "lms[162].astype(np.int32)\n"
   ]
  },
  {
   "cell_type": "code",
   "execution_count": 15,
   "metadata": {},
   "outputs": [],
   "source": [
    "FACEMESH_LIPS = frozenset([(61, 146), (146, 91), (91, 181), (181, 84), (84, 17),\n",
    "                           (17, 314), (314, 405), (405, 321), (321, 375),\n",
    "                           (375, 291), (61, 185), (185, 40), (40, 39), (39, 37),\n",
    "                           (37, 0), (0, 267),\n",
    "                           (267, 269), (269, 270), (270, 409), (409, 291),\n",
    "                           (78, 95), (95, 88), (88, 178), (178, 87), (87, 14),\n",
    "                           (14, 317), (317, 402), (402, 318), (318, 324),\n",
    "                           (324, 308), (78, 191), (191, 80), (80, 81), (81, 82),\n",
    "                           (82, 13), (13, 312), (312, 311), (311, 310),\n",
    "                           (310, 415), (415, 308)])\n"
   ]
  },
  {
   "cell_type": "code",
   "execution_count": null,
   "metadata": {},
   "outputs": [],
   "source": [
    "def draw_lips(img_folder, lms_folder, bbox_folder, ds, clip_id, bucket_id):\n",
    "    print(img_folder, lms_folder, bbox_folder, ds, clip_id, bucket_id)\n",
    "    img_folder = Path(img_folder)\n",
    "    lms_folder = Path(lms_folder)\n",
    "    bbox_folder = Path(bbox_folder)\n",
    "    img_list = list((img_folder / ds / clip_id / f\"{bucket_id:06d}\").glob(\"*.png\"))\n",
    "    img_list.sort()\n",
    "    img_list = [cv2.imread(str(img)) for img in img_list]\n",
    "    h, w = img_list[0].shape[:2]\n",
    "    lms = np.load(lms_folder / f\"{ds}/{clip_id}.npy\")\n",
    "    bbox = np.load(bbox_folder / f\"{ds}/{clip_id}.npy\")\n",
    "    bbox = bbox[bucket_id]\n",
    "    for i in range(bbox.shape[0]):\n",
    "        lm = lms[bbox[i][1]]\n",
    "        lm = lm.astype(np.int32)\n",
    "        bbox_h, bbox_w = bbox[i][4] - bbox[i][2], bbox[i][5] - bbox[i][3]\n",
    "        lm[:, 0] = (lm[:, 0] - bbox[i][2]) / bbox_w * w\n",
    "        lm[:, 1] = (lm[:, 1] - bbox[i][3]) / bbox_h * h\n",
    "        lm = lm.astype(np.int32)\n",
    "        for (p1, p2) in FACEMESH_LIPS:\n",
    "            cv2.line(img_list[i], (lm[p1][0], lm[p1][1]), (lm[p2][0], lm[p2][1]), (0, 255, 0), 2)\n",
    "    \n",
    "    image = np.concatenate(img_list, 1)\n",
    "    cv2.imwrite(\"test.png\", image)\n",
    "    plt.imshow(image[:, :, ::-1])\n",
    "    plt.show()\n",
    "\n",
    "draw_lips('/data/lipsync_512_data/', '/data/mp_lms', '/data/lipsync_512_data/bins', 'iv_recording', 'C1038--0001', 32)\n",
    "\n"
   ]
  },
  {
   "cell_type": "code",
   "execution_count": null,
   "metadata": {},
   "outputs": [],
   "source": [
    "import face_alignment\n",
    "from skimage import io\n",
    "fa = face_alignment.FaceAlignment(face_alignment.LandmarksType.THREE_D, device='cuda')\n",
    "\n",
    "ds = \"iv_recording\"\n",
    "clip_id = \"C1038--0001\"\n",
    "bucket_id = 32\n",
    "img_folder = Path(f\"/data/lipsync_512_data/\")\n",
    "bucket_folder = img_folder / ds / clip_id / f\"{bucket_id:06d}\"\n",
    "img_list = list(bucket_folder.glob(\"*.png\"))\n",
    "img_list.sort()\n",
    "img_list = [io.imread(str(img)) for img in img_list]\n",
    "\n",
    "for img in img_list:\n",
    "    landmarks = fa.get_landmarks(img)\n",
    "    print(landmarks[0].shape)\n"
   ]
  },
  {
   "cell_type": "code",
   "execution_count": null,
   "metadata": {},
   "outputs": [],
   "source": []
  },
  {
   "cell_type": "code",
   "execution_count": null,
   "metadata": {},
   "outputs": [],
   "source": []
  }
 ],
 "metadata": {
  "kernelspec": {
   "display_name": ".venv",
   "language": "python",
   "name": "python3"
  },
  "language_info": {
   "codemirror_mode": {
    "name": "ipython",
    "version": 3
   },
   "file_extension": ".py",
   "mimetype": "text/x-python",
   "name": "python",
   "nbconvert_exporter": "python",
   "pygments_lexer": "ipython3",
   "version": "3.10.14"
  }
 },
 "nbformat": 4,
 "nbformat_minor": 2
}
